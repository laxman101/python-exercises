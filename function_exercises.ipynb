{
 "cells": [
  {
   "cell_type": "code",
   "execution_count": null,
   "id": "a31d023f",
   "metadata": {},
   "outputs": [],
   "source": [
    "# 1. Define a function named is_two. It should accept one input and return True if the passed input is either the number or the string 2, False otherwise."
   ]
  },
  {
   "cell_type": "code",
   "execution_count": 1,
   "id": "edb941ef",
   "metadata": {},
   "outputs": [
    {
     "data": {
      "text/plain": [
       "False"
      ]
     },
     "execution_count": 1,
     "metadata": {},
     "output_type": "execute_result"
    }
   ],
   "source": [
    "def is_two(x):\n",
    "    if x == (2 or '2'):\n",
    "         return(True)\n",
    "    else:\n",
    "         return(False)\n",
    "\n",
    "is_two(3)"
   ]
  },
  {
   "cell_type": "code",
   "execution_count": null,
   "id": "b2978edf",
   "metadata": {},
   "outputs": [],
   "source": [
    "# 2. Define a function named is_vowel. It should return True if the passed string is a vowel, False otherwise."
   ]
  },
  {
   "cell_type": "code",
   "execution_count": 38,
   "id": "f43f2c68",
   "metadata": {},
   "outputs": [
    {
     "data": {
      "text/plain": [
       "True"
      ]
     },
     "execution_count": 38,
     "metadata": {},
     "output_type": "execute_result"
    }
   ],
   "source": [
    "def is_vowel(x):\n",
    "    vowel_letters =['a', 'e', 'i','o', 'u']\n",
    "    if x.lower() in vowel_letters :\n",
    "         return(True)\n",
    "    else:\n",
    "         return(False)\n",
    "\n",
    "is_vowel('a')\n",
    "\n"
   ]
  },
  {
   "cell_type": "code",
   "execution_count": null,
   "id": "ab8d096d",
   "metadata": {},
   "outputs": [],
   "source": [
    "# 3. Define a function named is_consonant. It should return True if the passed string is a consonant, False otherwise. Use your is_vowel function to accomplish this."
   ]
  },
  {
   "cell_type": "code",
   "execution_count": 43,
   "id": "2c433f8e",
   "metadata": {},
   "outputs": [
    {
     "data": {
      "text/plain": [
       "True"
      ]
     },
     "execution_count": 43,
     "metadata": {},
     "output_type": "execute_result"
    }
   ],
   "source": [
    "def is_consonant(x):\n",
    "    vowel_letters =['a', 'e', 'i','o', 'u']\n",
    "    if x.lower() not in vowel_letters :\n",
    "         return(True)\n",
    "    else:\n",
    "         return(False)\n",
    "        \n",
    "is_consonant('d')\n",
    "        \n",
    "        "
   ]
  },
  {
   "cell_type": "code",
   "execution_count": null,
   "id": "a0534185",
   "metadata": {},
   "outputs": [],
   "source": [
    "# 4. Define a function that accepts a string that is a word. The function should capitalize the first letter of the word if the word starts with a consonant."
   ]
  },
  {
   "cell_type": "code",
   "execution_count": 58,
   "id": "091e113b",
   "metadata": {},
   "outputs": [
    {
     "data": {
      "text/plain": [
       "'Giraffe'"
      ]
     },
     "execution_count": 58,
     "metadata": {},
     "output_type": "execute_result"
    }
   ],
   "source": [
    "def word(dog):\n",
    "    if is_consonant(dog[0]):\n",
    "        return(dog.title())\n",
    "    else:\n",
    "        return(dog)\n",
    "word('giraffe')"
   ]
  },
  {
   "cell_type": "code",
   "execution_count": null,
   "id": "9047f83d",
   "metadata": {},
   "outputs": [],
   "source": [
    "# 5. Define a function named calculate_tip. It should accept a tip percentage (a number between 0 and 1) and the bill total, and return the amount to tip."
   ]
  },
  {
   "cell_type": "code",
   "execution_count": 65,
   "id": "c97ccaf1",
   "metadata": {},
   "outputs": [
    {
     "data": {
      "text/plain": [
       "10.0"
      ]
     },
     "execution_count": 65,
     "metadata": {},
     "output_type": "execute_result"
    }
   ],
   "source": [
    "def calculate_tip(percent, total):\n",
    "    return (percent * total)\n",
    "calculate_tip(0.2, 50)"
   ]
  },
  {
   "cell_type": "code",
   "execution_count": null,
   "id": "7dffe554",
   "metadata": {},
   "outputs": [],
   "source": [
    "# 6. Define a function named apply_discount. It should accept a original price, and a discount percentage, and return the price after the discount is applied."
   ]
  },
  {
   "cell_type": "code",
   "execution_count": 68,
   "id": "fb3aa45d",
   "metadata": {},
   "outputs": [
    {
     "data": {
      "text/plain": [
       "60.0"
      ]
     },
     "execution_count": 68,
     "metadata": {},
     "output_type": "execute_result"
    }
   ],
   "source": [
    "def apply_discount(original_price, discount_percentage):\n",
    "    return (original_price -(original_price * discount_percentage))\n",
    "apply_discount(100, 0.4)"
   ]
  },
  {
   "cell_type": "code",
   "execution_count": null,
   "id": "0899fa9c",
   "metadata": {},
   "outputs": [],
   "source": [
    "# 7. Define a function named handle_commas. It should accept a string that is a number that contains commas in it as input, and return a number as output."
   ]
  },
  {
   "cell_type": "code",
   "execution_count": 7,
   "id": "e126be32",
   "metadata": {},
   "outputs": [
    {
     "data": {
      "text/plain": [
       "5000000"
      ]
     },
     "execution_count": 7,
     "metadata": {},
     "output_type": "execute_result"
    }
   ],
   "source": [
    "\n",
    "def handle_commas(number):\n",
    "    delete_commas= number.replace(',', '')\n",
    "    return int(delete_commas)\n",
    "handle_commas('50,00,000')\n"
   ]
  },
  {
   "cell_type": "code",
   "execution_count": null,
   "id": "8a75f2c9",
   "metadata": {},
   "outputs": [],
   "source": [
    "# 8. Define a function named get_letter_grade. It should accept a number and return the letter grade associated with that number (A-F)."
   ]
  },
  {
   "cell_type": "code",
   "execution_count": 17,
   "id": "9884be4f",
   "metadata": {},
   "outputs": [
    {
     "data": {
      "text/plain": [
       "'A'"
      ]
     },
     "execution_count": 17,
     "metadata": {},
     "output_type": "execute_result"
    }
   ],
   "source": [
    "def letter_grade(number):\n",
    "    if number >= 90:\n",
    "        return 'A'\n",
    "    elif number >= 80:\n",
    "        return 'B'\n",
    "    elif number >= 70:\n",
    "        return 'C'\n",
    "    elif number >= 60:\n",
    "        return 'D'\n",
    "    else:\n",
    "        return 'F'\n",
    "letter_grade(90)"
   ]
  },
  {
   "cell_type": "code",
   "execution_count": null,
   "id": "98958ea9",
   "metadata": {},
   "outputs": [],
   "source": [
    "# 9. Define a function named remove_vowels that accepts a string and returns a string with all the vowels removed."
   ]
  },
  {
   "cell_type": "code",
   "execution_count": 40,
   "id": "5ca1c0e3",
   "metadata": {},
   "outputs": [
    {
     "data": {
      "text/plain": [
       "'hpppptms'"
      ]
     },
     "execution_count": 40,
     "metadata": {},
     "output_type": "execute_result"
    }
   ],
   "source": [
    "# 9\n",
    "def remove_vowels(string):\n",
    "    string2 = \"\"\n",
    "    for char in string:\n",
    "        if char not in 'aeiou':\n",
    "            string2 += char\n",
    "    return string2\n",
    "remove_vowels ('hippoppotamus')"
   ]
  },
  {
   "cell_type": "code",
   "execution_count": 41,
   "id": "6c5d28c9",
   "metadata": {},
   "outputs": [
    {
     "data": {
      "text/plain": [
       "'dgdgdgdgdg'"
      ]
     },
     "execution_count": 41,
     "metadata": {},
     "output_type": "execute_result"
    }
   ],
   "source": [
    "# OR\n",
    "def remove_vowels(vowels):\n",
    "    for i in vowels:\n",
    "        if i in 'a e i o u':\n",
    "            return vowels.replace(i,'')\n",
    "remove_vowels('dogdogdogdogdog')\n"
   ]
  },
  {
   "cell_type": "code",
   "execution_count": null,
   "id": "8f9b2273",
   "metadata": {},
   "outputs": [],
   "source": [
    "# 10. Define a function named normalize_name. It should accept a string and return a valid python identifier, that is:\n",
    "# anything that is not a valid python identifier should be removed\n",
    "# leading and trailing whitespace should be removed\n",
    "# everything should be lowercase\n",
    "# spaces should be replaced with underscores\n",
    "# for example:\n",
    "# Name will become 'name'\n",
    "# First Name will become 'first_name'\n",
    "# % Completed will become 'completed'"
   ]
  },
  {
   "cell_type": "code",
   "execution_count": 63,
   "id": "1ac8cb02",
   "metadata": {},
   "outputs": [],
   "source": [
    "import re\n",
    "\n",
    "def normalize_name(name):\n",
    "    name = re.sub('\\W|^(?=\\d)','',name)\n",
    "    name = name.strip()\n",
    "    name = name.lower()\n",
    "    name = name.replace(' ', '_')\n",
    "    return(name)"
   ]
  },
  {
   "cell_type": "code",
   "execution_count": 68,
   "id": "571725b4",
   "metadata": {},
   "outputs": [
    {
     "data": {
      "text/plain": [
       "'finallydone'"
      ]
     },
     "execution_count": 68,
     "metadata": {},
     "output_type": "execute_result"
    }
   ],
   "source": [
    "normalize_name('% /\\?FINALLYdoNe^=')"
   ]
  },
  {
   "cell_type": "code",
   "execution_count": null,
   "id": "050c716c",
   "metadata": {},
   "outputs": [],
   "source": [
    "# 11. Write a function named cumulative_sum that accepts a list of numbers and returns a list that is the cumulative sum of the numbers in the list.\n",
    "# cumulative_sum([1, 1, 1]) returns [1, 2, 3]\n",
    "# cumulative_sum([1, 2, 3, 4]) returns [1, 3, 6, 10]"
   ]
  },
  {
   "cell_type": "code",
   "execution_count": 69,
   "id": "97e5484b",
   "metadata": {},
   "outputs": [
    {
     "data": {
      "text/plain": [
       "array([1, 2, 3])"
      ]
     },
     "execution_count": 69,
     "metadata": {},
     "output_type": "execute_result"
    }
   ],
   "source": [
    "import numpy as np\n",
    "a = [1,1,1]\n",
    "np.cumsum(a)"
   ]
  },
  {
   "cell_type": "code",
   "execution_count": 70,
   "id": "9f3691c6",
   "metadata": {},
   "outputs": [
    {
     "data": {
      "text/plain": [
       "array([ 1,  3,  6, 10])"
      ]
     },
     "execution_count": 70,
     "metadata": {},
     "output_type": "execute_result"
    }
   ],
   "source": [
    "import numpy as np\n",
    "a = [1,2,3,4]\n",
    "np.cumsum(a)"
   ]
  },
  {
   "cell_type": "code",
   "execution_count": 72,
   "id": "7a1a4c32",
   "metadata": {},
   "outputs": [
    {
     "data": {
      "text/plain": [
       "[1, 2, 3]"
      ]
     },
     "execution_count": 72,
     "metadata": {},
     "output_type": "execute_result"
    }
   ],
   "source": [
    "# OR\n",
    "lis = [1,1,1]\n",
    "from itertools import accumulate\n",
    "list(accumulate(lis))"
   ]
  },
  {
   "cell_type": "code",
   "execution_count": 73,
   "id": "29cdaeb8",
   "metadata": {},
   "outputs": [
    {
     "data": {
      "text/plain": [
       "[1, 3, 6, 10]"
      ]
     },
     "execution_count": 73,
     "metadata": {},
     "output_type": "execute_result"
    }
   ],
   "source": [
    "lis = [1,2,3,4]\n",
    "from itertools import accumulate\n",
    "list(accumulate(lis))"
   ]
  }
 ],
 "metadata": {
  "kernelspec": {
   "display_name": "Python 3",
   "language": "python",
   "name": "python3"
  },
  "language_info": {
   "codemirror_mode": {
    "name": "ipython",
    "version": 3
   },
   "file_extension": ".py",
   "mimetype": "text/x-python",
   "name": "python",
   "nbconvert_exporter": "python",
   "pygments_lexer": "ipython3",
   "version": "3.8.8"
  }
 },
 "nbformat": 4,
 "nbformat_minor": 5
}
