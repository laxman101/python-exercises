{
 "cells": [
  {
   "cell_type": "markdown",
   "id": "c14f7dcd",
   "metadata": {},
   "source": [
    "# Some notes on 3 shortcuts for jupyter notebooks:\n",
    "\n",
    "## ctrl + Enter - Run selected cells\n",
    "## ctrl + S - save & checkpoint\n",
    "## shift +Space - scroll notebook up\n"
   ]
  },
  {
   "cell_type": "code",
   "execution_count": 1,
   "id": "834e9232",
   "metadata": {},
   "outputs": [
    {
     "data": {
      "text/plain": [
       "[0, 1, 2, 3, 4, 5, 6, 7, 8, 9]"
      ]
     },
     "execution_count": 1,
     "metadata": {},
     "output_type": "execute_result"
    }
   ],
   "source": [
    "[n for n in range(10)]"
   ]
  },
  {
   "cell_type": "code",
   "execution_count": 2,
   "id": "b7a0d270",
   "metadata": {},
   "outputs": [
    {
     "data": {
      "text/plain": [
       "['a', 'b', 'c', 'd', 'e']"
      ]
     },
     "execution_count": 2,
     "metadata": {},
     "output_type": "execute_result"
    }
   ],
   "source": [
    "list('abcde')\n"
   ]
  },
  {
   "cell_type": "code",
   "execution_count": 4,
   "id": "fe6e59df",
   "metadata": {},
   "outputs": [
    {
     "data": {
      "text/plain": [
       "False"
      ]
     },
     "execution_count": 4,
     "metadata": {},
     "output_type": "execute_result"
    }
   ],
   "source": [
    "True != True"
   ]
  },
  {
   "cell_type": "code",
   "execution_count": 5,
   "id": "08568aa8",
   "metadata": {},
   "outputs": [
    {
     "name": "stdout",
     "output_type": "stream",
     "text": [
      "Looks like a nice, sunny day!\n"
     ]
    }
   ],
   "source": [
    "it_is_raining = False\n",
    "\n",
    "if it_is_raining:\n",
    "    print('Better bring an umbrella!')\n",
    "else:\n",
    "    print('Looks like a nice, sunny day!')"
   ]
  },
  {
   "cell_type": "code",
   "execution_count": 6,
   "id": "8d6d074e",
   "metadata": {},
   "outputs": [
    {
     "name": "stdout",
     "output_type": "stream",
     "text": [
      "a\n",
      "b\n",
      "c\n",
      "d\n",
      "e\n"
     ]
    }
   ],
   "source": [
    "for letter in 'abcde':\n",
    "    print(letter)"
   ]
  }
 ],
 "metadata": {
  "kernelspec": {
   "display_name": "Python 3",
   "language": "python",
   "name": "python3"
  },
  "language_info": {
   "codemirror_mode": {
    "name": "ipython",
    "version": 3
   },
   "file_extension": ".py",
   "mimetype": "text/x-python",
   "name": "python",
   "nbconvert_exporter": "python",
   "pygments_lexer": "ipython3",
   "version": "3.8.8"
  }
 },
 "nbformat": 4,
 "nbformat_minor": 5
}
