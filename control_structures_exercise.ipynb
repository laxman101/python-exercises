{
 "cells": [
  {
   "cell_type": "code",
   "execution_count": 1,
   "id": "153f3d92",
   "metadata": {},
   "outputs": [],
   "source": [
    "# 1 Conditional Basics\n",
    "\n",
    "# a. prompt the user for a day of the week, print out whether the day is Monday or not"
   ]
  },
  {
   "cell_type": "code",
   "execution_count": 8,
   "id": "6f9c01f4",
   "metadata": {},
   "outputs": [
    {
     "name": "stdout",
     "output_type": "stream",
     "text": [
      "Enter here day of week monday\n",
      "Today is Monday\n"
     ]
    }
   ],
   "source": [
    "user_today = input('Enter here day of week ')\n",
    "if user_today.lower() in ['monday']:\n",
    "    print('Today is Monday')\n",
    "else :\n",
    "    print('Today is not Monday')"
   ]
  },
  {
   "cell_type": "code",
   "execution_count": null,
   "id": "28e0e219",
   "metadata": {},
   "outputs": [],
   "source": [
    "# 1.b. prompt the user for a day of the week, print out whether the day is a weekday or a weekend."
   ]
  },
  {
   "cell_type": "code",
   "execution_count": 9,
   "id": "e95c2661",
   "metadata": {},
   "outputs": [
    {
     "name": "stdout",
     "output_type": "stream",
     "text": [
      "Enter here day of week saturday\n",
      "Today is weekend\n"
     ]
    }
   ],
   "source": [
    "user_day = input('Enter here day of week ')\n",
    "if user_day.lower() in ['sunday', 'saturday']:\n",
    "    print ('Today is weekend')\n",
    "else:\n",
    "    print('Today is weekday')\n"
   ]
  },
  {
   "cell_type": "code",
   "execution_count": 10,
   "id": "6fe8b9f2",
   "metadata": {},
   "outputs": [],
   "source": [
    "#1 c. create variables and make up values for\n",
    "\n",
    "# the number of hours worked in one week\n",
    "# the hourly rate\n",
    "# how much the week's paycheck will be\n",
    "# write the python code that calculates the weekly paycheck. You get paid time and a half if you work more than 40 hours"
   ]
  },
  {
   "cell_type": "code",
   "execution_count": 11,
   "id": "3f297f37",
   "metadata": {},
   "outputs": [
    {
     "name": "stdout",
     "output_type": "stream",
     "text": [
      "850.0\n"
     ]
    }
   ],
   "source": [
    "number_of_regular_hours_worked_one_week = 40\n",
    "number_of_overtime_hours_worked_one_week = 30\n",
    "hourly_rate_regular_hours = 10\n",
    "hourly_rate_overtime_hours = hourly_rate_regular_hours * 1.5\n",
    "\n",
    "weekly_regular_pay = number_of_regular_hours_worked_one_week * hourly_rate_regular_hours \n",
    "weekly_overtime_pay = number_of_overtime_hours_worked_one_week * hourly_rate_overtime_hours\n",
    "weekly_pay_check = weekly_regular_pay + weekly_overtime_pay\n",
    "print(weekly_pay_check)"
   ]
  },
  {
   "cell_type": "code",
   "execution_count": 12,
   "id": "67e1a5e8",
   "metadata": {},
   "outputs": [],
   "source": [
    "# Loop Basics\n",
    "\n",
    "# While\n",
    "\n",
    "# Create an integer variable i with a value of 5.\n",
    "# Create a while loop that runs so long as i is less than or equal to 15\n",
    "# Each loop iteration, output the current value of i, then increment i by one."
   ]
  },
  {
   "cell_type": "code",
   "execution_count": 13,
   "id": "0b9419df",
   "metadata": {},
   "outputs": [
    {
     "name": "stdout",
     "output_type": "stream",
     "text": [
      "5\n",
      "6\n",
      "7\n",
      "8\n",
      "9\n",
      "10\n",
      "11\n",
      "12\n",
      "13\n",
      "14\n",
      "15\n"
     ]
    }
   ],
   "source": [
    "i = 5\n",
    "while i <= 15:\n",
    "    print(i)\n",
    "    i = i+1"
   ]
  },
  {
   "cell_type": "code",
   "execution_count": 14,
   "id": "e04ed039",
   "metadata": {},
   "outputs": [],
   "source": [
    "# Create a while loop that will count by 2's starting with 0 and ending at 100. Follow each number with a new line."
   ]
  },
  {
   "cell_type": "code",
   "execution_count": 15,
   "id": "8882f40b",
   "metadata": {},
   "outputs": [
    {
     "name": "stdout",
     "output_type": "stream",
     "text": [
      "0\n",
      "2\n",
      "4\n",
      "6\n",
      "8\n",
      "10\n",
      "12\n",
      "14\n",
      "16\n",
      "18\n",
      "20\n",
      "22\n",
      "24\n",
      "26\n",
      "28\n",
      "30\n",
      "32\n",
      "34\n",
      "36\n",
      "38\n",
      "40\n",
      "42\n",
      "44\n",
      "46\n",
      "48\n",
      "50\n",
      "52\n",
      "54\n",
      "56\n",
      "58\n",
      "60\n",
      "62\n",
      "64\n",
      "66\n",
      "68\n",
      "70\n",
      "72\n",
      "74\n",
      "76\n",
      "78\n",
      "80\n",
      "82\n",
      "84\n",
      "86\n",
      "88\n",
      "90\n",
      "92\n",
      "94\n",
      "96\n",
      "98\n",
      "100\n"
     ]
    }
   ],
   "source": [
    "i = 0\n",
    "while i <= 100:\n",
    "    print(i)\n",
    "    i = i+2"
   ]
  },
  {
   "cell_type": "code",
   "execution_count": 16,
   "id": "ed2f0b9b",
   "metadata": {},
   "outputs": [],
   "source": [
    "# Alter your loop to count backwards by 5's from 100 to -10."
   ]
  },
  {
   "cell_type": "code",
   "execution_count": 17,
   "id": "8625f914",
   "metadata": {},
   "outputs": [
    {
     "name": "stdout",
     "output_type": "stream",
     "text": [
      "100\n",
      "95\n",
      "90\n",
      "85\n",
      "80\n",
      "75\n",
      "70\n",
      "65\n",
      "60\n",
      "55\n",
      "50\n",
      "45\n",
      "40\n",
      "35\n",
      "30\n",
      "25\n",
      "20\n",
      "15\n",
      "10\n",
      "5\n",
      "0\n",
      "-5\n",
      "-10\n"
     ]
    }
   ],
   "source": [
    "i = 100\n",
    "while i >= -10:\n",
    "    print(i)\n",
    "    i = i - 5"
   ]
  },
  {
   "cell_type": "code",
   "execution_count": 18,
   "id": "aa5ef554",
   "metadata": {},
   "outputs": [],
   "source": [
    "# Create a while loop that starts at 2, and displays the number squared on each line while the number is less than 1,000,000. Output should equal:"
   ]
  },
  {
   "cell_type": "code",
   "execution_count": 21,
   "id": "720ea835",
   "metadata": {},
   "outputs": [
    {
     "name": "stdout",
     "output_type": "stream",
     "text": [
      "2\n",
      "4\n",
      "16\n",
      "256\n",
      "65536\n"
     ]
    }
   ],
   "source": [
    "i = 2\n",
    "while i < 1000000:\n",
    "      print (i)\n",
    "      i = i * i\n"
   ]
  },
  {
   "cell_type": "code",
   "execution_count": 22,
   "id": "d52bff7b",
   "metadata": {},
   "outputs": [],
   "source": [
    "# Write a loop that uses print to create the output shown below."
   ]
  },
  {
   "cell_type": "code",
   "execution_count": 23,
   "id": "d24afa78",
   "metadata": {},
   "outputs": [
    {
     "name": "stdout",
     "output_type": "stream",
     "text": [
      "100\n",
      "95\n",
      "90\n",
      "85\n",
      "80\n",
      "75\n",
      "70\n",
      "65\n",
      "60\n",
      "55\n",
      "50\n",
      "45\n",
      "40\n",
      "35\n",
      "30\n",
      "25\n",
      "20\n",
      "15\n",
      "10\n",
      "5\n"
     ]
    }
   ],
   "source": [
    "i = 100\n",
    "while i >= 5:\n",
    "    print(i)\n",
    "    i = i -5"
   ]
  },
  {
   "cell_type": "code",
   "execution_count": 24,
   "id": "e88b6188",
   "metadata": {},
   "outputs": [],
   "source": [
    "# b. For Loops\n",
    "# Write some code that prompts the user for a number, then shows a multiplication table up through 10 for that number.\n",
    "\n",
    "# For example, if the user enters 7, your program should output:"
   ]
  },
  {
   "cell_type": "code",
   "execution_count": 26,
   "id": "4f2e4f31",
   "metadata": {},
   "outputs": [
    {
     "name": "stdout",
     "output_type": "stream",
     "text": [
      "Enter a positive number: 7\n",
      "7 x 1 = 7\n",
      "7 x 2 = 14\n",
      "7 x 3 = 21\n",
      "7 x 4 = 28\n",
      "7 x 5 = 35\n",
      "7 x 6 = 42\n",
      "7 x 7 = 49\n",
      "7 x 8 = 56\n",
      "7 x 9 = 63\n",
      "7 x 10 = 70\n"
     ]
    }
   ],
   "source": [
    "user_number = input('Enter a positive number: ')\n",
    "i= 1\n",
    "while i <= 10:\n",
    "    print(user_number, 'x', i, '=', int(user_number) * i)\n",
    "    i = i +1"
   ]
  },
  {
   "cell_type": "code",
   "execution_count": 27,
   "id": "082b2e21",
   "metadata": {},
   "outputs": [],
   "source": [
    "# Create a for loop that uses print to create the output shown below."
   ]
  },
  {
   "cell_type": "code",
   "execution_count": 28,
   "id": "df3181fe",
   "metadata": {},
   "outputs": [
    {
     "name": "stdout",
     "output_type": "stream",
     "text": [
      "1\n",
      "22\n",
      "333\n",
      "4444\n",
      "55555\n",
      "666666\n",
      "7777777\n",
      "88888888\n",
      "999999999\n"
     ]
    }
   ],
   "source": [
    "for i in range(1, 10):\n",
    "    print(str(i) * i)"
   ]
  },
  {
   "cell_type": "code",
   "execution_count": 29,
   "id": "67581376",
   "metadata": {},
   "outputs": [],
   "source": [
    "# break and continue\n",
    "\n",
    "# Prompt the user for an odd number between 1 and 50. Use a loop and a break statement to continue prompting the user if they enter invalid input. (Hint: use the isdigit method on strings to determine this). Use a loop and the continue statement to output all the odd numbers between 1 and 50, except for the number the user entered.\n",
    "\n"
   ]
  },
  {
   "cell_type": "code",
   "execution_count": 42,
   "id": "ee6c4c5d",
   "metadata": {},
   "outputs": [
    {
     "name": "stdout",
     "output_type": "stream",
     "text": [
      "Enter odd number between 1 - 50: 21\n"
     ]
    },
    {
     "data": {
      "text/plain": [
       "True"
      ]
     },
     "execution_count": 42,
     "metadata": {},
     "output_type": "execute_result"
    }
   ],
   "source": [
    "num = input('Enter odd number between 1 - 50: ')\n",
    "\n",
    "num.isdigit()\n",
    "\n"
   ]
  },
  {
   "cell_type": "code",
   "execution_count": 30,
   "id": "2b033f35",
   "metadata": {},
   "outputs": [
    {
     "name": "stdout",
     "output_type": "stream",
     "text": [
      "Please enter a odd number between 1 and 50: 21\n"
     ]
    },
    {
     "ename": "SyntaxError",
     "evalue": "'break' outside loop (<ipython-input-30-6e5ba7c796be>, line 10)",
     "output_type": "error",
     "traceback": [
      "\u001b[0;36m  File \u001b[0;32m\"<ipython-input-30-6e5ba7c796be>\"\u001b[0;36m, line \u001b[0;32m10\u001b[0m\n\u001b[0;31m    break\u001b[0m\n\u001b[0m    ^\u001b[0m\n\u001b[0;31mSyntaxError\u001b[0m\u001b[0;31m:\u001b[0m 'break' outside loop\n"
     ]
    }
   ],
   "source": [
    "num = input('Please enter a odd number between 1 and 50: ')\n",
    "while True:\n",
    "    if (num.isdigit() ==  False\n",
    "           or int(num) > 50\n",
    "          or int(num) <=0\n",
    "          or int(num) % 2 == 0):\n",
    "        print('Invalid Input')\n",
    "        num = input('Please enter a odd number between 1 and 50: ')\n",
    "else:\n",
    "    break\n",
    "    num = int(num)\n",
    "    print(' The number to skip is ', num)\n",
    "     \n",
    "    for i in range(1, 50):\n",
    "        if i % 2 == 0:\n",
    "            continue\n",
    "        elif i == num:\n",
    "            print('Yikes, skipping this number', i)\n",
    "        else:\n",
    "            print('Here is an odd number', i)\n",
    "    \n",
    "          \n",
    "       "
   ]
  },
  {
   "cell_type": "code",
   "execution_count": null,
   "id": "0e05ac1d",
   "metadata": {},
   "outputs": [],
   "source": [
    "\n",
    "    "
   ]
  },
  {
   "cell_type": "code",
   "execution_count": null,
   "id": "19bb6708",
   "metadata": {},
   "outputs": [],
   "source": []
  }
 ],
 "metadata": {
  "kernelspec": {
   "display_name": "Python 3",
   "language": "python",
   "name": "python3"
  },
  "language_info": {
   "codemirror_mode": {
    "name": "ipython",
    "version": 3
   },
   "file_extension": ".py",
   "mimetype": "text/x-python",
   "name": "python",
   "nbconvert_exporter": "python",
   "pygments_lexer": "ipython3",
   "version": "3.8.8"
  }
 },
 "nbformat": 4,
 "nbformat_minor": 5
}
