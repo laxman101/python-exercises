{
 "cells": [
  {
   "cell_type": "markdown",
   "id": "c221bcfb",
   "metadata": {},
   "source": [
    "### 1 You have rented some movies for your kids: The little mermaid (for 3 days), Brother Bear (for 5 days, they love it), and Hercules (1 day, you don't know yet if they're going to like it). If price for a movie per day is 3 dollars, how much will you have to pay?"
   ]
  },
  {
   "cell_type": "code",
   "execution_count": 5,
   "id": "e26f8471",
   "metadata": {},
   "outputs": [
    {
     "name": "stdout",
     "output_type": "stream",
     "text": [
      "27\n"
     ]
    }
   ],
   "source": [
    "movie_little_mermaid_days = 3\n",
    "movie_brother_bear_day = 5\n",
    "movie_hercules_days = 1\n",
    "\n",
    "total_rental_days = movie_little_mermaid_days + movie_brother_bear_day + movie_hercules_days\n",
    "cost_per_day = 3\n",
    "\n",
    "\n",
    "total_cost = cost_per_day * total_rental_days\n",
    "print(total_cost)"
   ]
  },
  {
   "cell_type": "markdown",
   "id": "80a7d4fe",
   "metadata": {},
   "source": [
    "### 2 Suppose you're working as a contractor for 3 companies: Google, Amazon and Facebook, they pay you a different rate per hour. Google pays 400 dollars per hour, Amazon 380, and Facebook 350. How much will you receive in payment for this week? You worked 10 hours for Facebook, 6 hours for Google and 4 hours for Amazon"
   ]
  },
  {
   "cell_type": "code",
   "execution_count": 7,
   "id": "331a9d17",
   "metadata": {},
   "outputs": [
    {
     "name": "stdout",
     "output_type": "stream",
     "text": [
      "7420\n"
     ]
    }
   ],
   "source": [
    "google_pay_hourly = 400\n",
    "amazon_pay_hourly = 380\n",
    "facebook_pay_hourly = 350\n",
    "\n",
    "google_work_hour = 6\n",
    "amazon_work_hour = 4\n",
    "facebook_work_hour = 10\n",
    "\n",
    "total_pay_weekly = google_pay_hourly * google_work_hour + amazon_pay_hourly * amazon_work_hour + facebook_pay_hourly * facebook_work_hour\n",
    "\n",
    "print(total_pay_weekly)"
   ]
  },
  {
   "cell_type": "markdown",
   "id": "ac2d05eb",
   "metadata": {},
   "source": [
    "### 3 A student can be enrolled to a class only if the class is not full and the class schedule does not conflict with her current schedule."
   ]
  },
  {
   "cell_type": "code",
   "execution_count": 10,
   "id": "ce6ff051",
   "metadata": {},
   "outputs": [
    {
     "data": {
      "text/plain": [
       "False"
      ]
     },
     "execution_count": 10,
     "metadata": {},
     "output_type": "execute_result"
    }
   ],
   "source": [
    "class_full = True\n",
    "schedule_conflict = False\n",
    "\n",
    "\n",
    "can_enroll = (not class_full) and (not schedule_conflict)\n",
    "\n",
    "can_enroll\n"
   ]
  },
  {
   "cell_type": "markdown",
   "id": "c042bded",
   "metadata": {},
   "source": [
    "### 4 A product offer can be applied only if people buys more than 2 items, and the offer has not expired. Premium members do not need to buy a specific amount of products."
   ]
  },
  {
   "cell_type": "code",
   "execution_count": 4,
   "id": "6d14601f",
   "metadata": {},
   "outputs": [
    {
     "name": "stdout",
     "output_type": "stream",
     "text": [
      "False\n"
     ]
    }
   ],
   "source": [
    "people_buys = 5\n",
    "\n",
    "offer_expires = True \n",
    "\n",
    "premium_member = False\n",
    "\n",
    "A_product_offer =  (premium_member or (people_buys > 2)) and not offer_expires \n",
    "\n",
    "print(A_product_offer)\n",
    "\n",
    "\n"
   ]
  },
  {
   "cell_type": "markdown",
   "id": "e5672d1c",
   "metadata": {},
   "source": [
    "## Use the following code to follow the instructions below:\n",
    "### Create a variable that holds a boolean value for each of the following conditions:\n",
    "### 1) the password must be at least 5 characters \n",
    "### 2) the username must be no more than 20 characters \n",
    "### 3) the password must not be the same as the username \n",
    "### 4) neither the username or password can start or end with whitespace "
   ]
  },
  {
   "cell_type": "code",
   "execution_count": 5,
   "id": "1134371b",
   "metadata": {},
   "outputs": [],
   "source": [
    "username = 'codeup'\n",
    "password = 'notastrongpassword'"
   ]
  },
  {
   "cell_type": "code",
   "execution_count": 7,
   "id": "091dfb9a",
   "metadata": {},
   "outputs": [
    {
     "data": {
      "text/plain": [
       "True"
      ]
     },
     "execution_count": 7,
     "metadata": {},
     "output_type": "execute_result"
    }
   ],
   "source": [
    "at_least_five_char = len(password) >= 5\n",
    "at_least_five_char"
   ]
  },
  {
   "cell_type": "code",
   "execution_count": 9,
   "id": "3327b189",
   "metadata": {},
   "outputs": [
    {
     "data": {
      "text/plain": [
       "True"
      ]
     },
     "execution_count": 9,
     "metadata": {},
     "output_type": "execute_result"
    }
   ],
   "source": [
    "no_more_than_twenty_char = len(username) <= 20\n",
    "no_more_than_twenty_char"
   ]
  },
  {
   "cell_type": "code",
   "execution_count": 10,
   "id": "19c90bb2",
   "metadata": {},
   "outputs": [
    {
     "data": {
      "text/plain": [
       "True"
      ]
     },
     "execution_count": 10,
     "metadata": {},
     "output_type": "execute_result"
    }
   ],
   "source": [
    "not_same_as_username = password != username\n",
    "not_same_as_username"
   ]
  }
 ],
 "metadata": {
  "kernelspec": {
   "display_name": "Python 3",
   "language": "python",
   "name": "python3"
  },
  "language_info": {
   "codemirror_mode": {
    "name": "ipython",
    "version": 3
   },
   "file_extension": ".py",
   "mimetype": "text/x-python",
   "name": "python",
   "nbconvert_exporter": "python",
   "pygments_lexer": "ipython3",
   "version": "3.8.8"
  }
 },
 "nbformat": 4,
 "nbformat_minor": 5
}
