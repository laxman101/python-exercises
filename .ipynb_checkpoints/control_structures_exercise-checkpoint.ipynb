{
 "cells": [
  {
   "cell_type": "markdown",
   "id": "544af9ec",
   "metadata": {},
   "source": [
    "### 1 Conditional Basics\n",
    "\n",
    "### a. prompt the user for a day of the week, print out whether the day is Monday or not"
   ]
  },
  {
   "cell_type": "code",
   "execution_count": 8,
   "id": "6f9c01f4",
   "metadata": {},
   "outputs": [
    {
     "name": "stdout",
     "output_type": "stream",
     "text": [
      "Enter here day of week monday\n",
      "Today is Monday\n"
     ]
    }
   ],
   "source": [
    "user_today = input('Enter here day of week ')\n",
    "if user_today.lower() in ['monday']:\n",
    "    print('Today is Monday')\n",
    "else :\n",
    "    print('Today is not Monday')"
   ]
  },
  {
   "cell_type": "markdown",
   "id": "38d5998b",
   "metadata": {},
   "source": [
    "### 1.b. prompt the user for a day of the week, print out whether the day is a weekday or a weekend."
   ]
  },
  {
   "cell_type": "code",
   "execution_count": 9,
   "id": "e95c2661",
   "metadata": {},
   "outputs": [
    {
     "name": "stdout",
     "output_type": "stream",
     "text": [
      "Enter here day of week saturday\n",
      "Today is weekend\n"
     ]
    }
   ],
   "source": [
    "user_day = input('Enter here day of week ')\n",
    "if user_day.lower() in ['sunday', 'saturday']:\n",
    "    print ('Today is weekend')\n",
    "else:\n",
    "    print('Today is weekday')\n"
   ]
  },
  {
   "cell_type": "markdown",
   "id": "ca33167c",
   "metadata": {},
   "source": [
    "## 1 c. create variables and make up values for\n",
    "### the number of hours worked in one week\n",
    "### the hourly rate\n",
    "### how much the week's paycheck will be\n",
    "### write the python code that calculates the weekly paycheck. You get paid time and a half if you work more than 40 hours"
   ]
  },
  {
   "cell_type": "code",
   "execution_count": 11,
   "id": "3f297f37",
   "metadata": {},
   "outputs": [
    {
     "name": "stdout",
     "output_type": "stream",
     "text": [
      "850.0\n"
     ]
    }
   ],
   "source": [
    "number_of_regular_hours_worked_one_week = 40\n",
    "number_of_overtime_hours_worked_one_week = 30\n",
    "hourly_rate_regular_hours = 10\n",
    "hourly_rate_overtime_hours = hourly_rate_regular_hours * 1.5\n",
    "\n",
    "weekly_regular_pay = number_of_regular_hours_worked_one_week * hourly_rate_regular_hours \n",
    "weekly_overtime_pay = number_of_overtime_hours_worked_one_week * hourly_rate_overtime_hours\n",
    "weekly_pay_check = weekly_regular_pay + weekly_overtime_pay\n",
    "print(weekly_pay_check)"
   ]
  },
  {
   "cell_type": "markdown",
   "id": "8def6b1a",
   "metadata": {},
   "source": [
    "## Loop Basics\n",
    "### While\n",
    "### Create an integer variable i with a value of 5.\n",
    "### Create a while loop that runs so long as i is less than or equal to 15\n",
    "### Each loop iteration, output the current value of i, then increment i by one."
   ]
  },
  {
   "cell_type": "code",
   "execution_count": 13,
   "id": "0b9419df",
   "metadata": {},
   "outputs": [
    {
     "name": "stdout",
     "output_type": "stream",
     "text": [
      "5\n",
      "6\n",
      "7\n",
      "8\n",
      "9\n",
      "10\n",
      "11\n",
      "12\n",
      "13\n",
      "14\n",
      "15\n"
     ]
    }
   ],
   "source": [
    "i = 5\n",
    "while i <= 15:\n",
    "    print(i)\n",
    "    i = i+1"
   ]
  },
  {
   "cell_type": "markdown",
   "id": "49ae6aad",
   "metadata": {},
   "source": [
    "### Create a while loop that will count by 2's starting with 0 and ending at 100. Follow each number with a new line."
   ]
  },
  {
   "cell_type": "code",
   "execution_count": 15,
   "id": "8882f40b",
   "metadata": {},
   "outputs": [
    {
     "name": "stdout",
     "output_type": "stream",
     "text": [
      "0\n",
      "2\n",
      "4\n",
      "6\n",
      "8\n",
      "10\n",
      "12\n",
      "14\n",
      "16\n",
      "18\n",
      "20\n",
      "22\n",
      "24\n",
      "26\n",
      "28\n",
      "30\n",
      "32\n",
      "34\n",
      "36\n",
      "38\n",
      "40\n",
      "42\n",
      "44\n",
      "46\n",
      "48\n",
      "50\n",
      "52\n",
      "54\n",
      "56\n",
      "58\n",
      "60\n",
      "62\n",
      "64\n",
      "66\n",
      "68\n",
      "70\n",
      "72\n",
      "74\n",
      "76\n",
      "78\n",
      "80\n",
      "82\n",
      "84\n",
      "86\n",
      "88\n",
      "90\n",
      "92\n",
      "94\n",
      "96\n",
      "98\n",
      "100\n"
     ]
    }
   ],
   "source": [
    "i = 0\n",
    "while i <= 100:\n",
    "    print(i)\n",
    "    i = i+2"
   ]
  },
  {
   "cell_type": "markdown",
   "id": "a8e3bb6c",
   "metadata": {},
   "source": [
    "### Alter your loop to count backwards by 5's from 100 to -10."
   ]
  },
  {
   "cell_type": "code",
   "execution_count": 17,
   "id": "8625f914",
   "metadata": {},
   "outputs": [
    {
     "name": "stdout",
     "output_type": "stream",
     "text": [
      "100\n",
      "95\n",
      "90\n",
      "85\n",
      "80\n",
      "75\n",
      "70\n",
      "65\n",
      "60\n",
      "55\n",
      "50\n",
      "45\n",
      "40\n",
      "35\n",
      "30\n",
      "25\n",
      "20\n",
      "15\n",
      "10\n",
      "5\n",
      "0\n",
      "-5\n",
      "-10\n"
     ]
    }
   ],
   "source": [
    "i = 100\n",
    "while i >= -10:\n",
    "    print(i)\n",
    "    i = i - 5"
   ]
  },
  {
   "cell_type": "markdown",
   "id": "c9f7e3c5",
   "metadata": {},
   "source": [
    "### Create a while loop that starts at 2, and displays the number squared on each line while the number is less than 1,000,000. Output should equal:"
   ]
  },
  {
   "cell_type": "code",
   "execution_count": 21,
   "id": "720ea835",
   "metadata": {},
   "outputs": [
    {
     "name": "stdout",
     "output_type": "stream",
     "text": [
      "2\n",
      "4\n",
      "16\n",
      "256\n",
      "65536\n"
     ]
    }
   ],
   "source": [
    "i = 2\n",
    "while i < 1000000:\n",
    "      print (i)\n",
    "      i = i * i\n"
   ]
  },
  {
   "cell_type": "markdown",
   "id": "e3246bab",
   "metadata": {},
   "source": [
    "### Write a loop that uses print to create the output shown below."
   ]
  },
  {
   "cell_type": "code",
   "execution_count": 23,
   "id": "d24afa78",
   "metadata": {},
   "outputs": [
    {
     "name": "stdout",
     "output_type": "stream",
     "text": [
      "100\n",
      "95\n",
      "90\n",
      "85\n",
      "80\n",
      "75\n",
      "70\n",
      "65\n",
      "60\n",
      "55\n",
      "50\n",
      "45\n",
      "40\n",
      "35\n",
      "30\n",
      "25\n",
      "20\n",
      "15\n",
      "10\n",
      "5\n"
     ]
    }
   ],
   "source": [
    "i = 100\n",
    "while i >= 5:\n",
    "    print(i)\n",
    "    i = i -5"
   ]
  },
  {
   "cell_type": "markdown",
   "id": "ab828491",
   "metadata": {},
   "source": [
    "## b. For Loops\n",
    "### Write some code that prompts the user for a number, then shows a multiplication table up through 10 for that number.\n",
    "### For example, if the user enters 7, your program should output:"
   ]
  },
  {
   "cell_type": "code",
   "execution_count": 26,
   "id": "4f2e4f31",
   "metadata": {},
   "outputs": [
    {
     "name": "stdout",
     "output_type": "stream",
     "text": [
      "Enter a positive number: 7\n",
      "7 x 1 = 7\n",
      "7 x 2 = 14\n",
      "7 x 3 = 21\n",
      "7 x 4 = 28\n",
      "7 x 5 = 35\n",
      "7 x 6 = 42\n",
      "7 x 7 = 49\n",
      "7 x 8 = 56\n",
      "7 x 9 = 63\n",
      "7 x 10 = 70\n"
     ]
    }
   ],
   "source": [
    "user_number = input('Enter a positive number: ')\n",
    "i= 1\n",
    "while i <= 10:\n",
    "    print(user_number, 'x', i, '=', int(user_number) * i)\n",
    "    i = i +1"
   ]
  },
  {
   "cell_type": "markdown",
   "id": "bf5f2b15",
   "metadata": {},
   "source": [
    "### Create a for loop that uses print to create the output shown below."
   ]
  },
  {
   "cell_type": "code",
   "execution_count": 28,
   "id": "df3181fe",
   "metadata": {},
   "outputs": [
    {
     "name": "stdout",
     "output_type": "stream",
     "text": [
      "1\n",
      "22\n",
      "333\n",
      "4444\n",
      "55555\n",
      "666666\n",
      "7777777\n",
      "88888888\n",
      "999999999\n"
     ]
    }
   ],
   "source": [
    "for i in range(1, 10):\n",
    "    print(str(i) * i)"
   ]
  },
  {
   "cell_type": "markdown",
   "id": "86172b93",
   "metadata": {},
   "source": [
    "### break and continue\n",
    "### Prompt the user for an odd number between 1 and 50. Use a loop and a break statement to continue prompting the user if they enter invalid input. (Hint: use the isdigit method on strings to determine this). Use a loop and the continue statement to output all the odd numbers between 1 and 50, except for the number the user entered.\n",
    "\n"
   ]
  },
  {
   "cell_type": "code",
   "execution_count": 42,
   "id": "ee6c4c5d",
   "metadata": {},
   "outputs": [
    {
     "name": "stdout",
     "output_type": "stream",
     "text": [
      "Enter odd number between 1 - 50: 21\n"
     ]
    },
    {
     "data": {
      "text/plain": [
       "True"
      ]
     },
     "execution_count": 42,
     "metadata": {},
     "output_type": "execute_result"
    }
   ],
   "source": [
    "num = input('Enter odd number between 1 - 50: ')\n",
    "\n",
    "num.isdigit()\n",
    "\n"
   ]
  },
  {
   "cell_type": "code",
   "execution_count": 1,
   "id": "2b033f35",
   "metadata": {},
   "outputs": [
    {
     "name": "stdout",
     "output_type": "stream",
     "text": [
      "Please enter a odd number between 1 and 50: 27\n",
      " The number to skip is  27\n",
      "Here is an odd number 1\n",
      "Here is an odd number 3\n",
      "Here is an odd number 5\n",
      "Here is an odd number 7\n",
      "Here is an odd number 9\n",
      "Here is an odd number 11\n",
      "Here is an odd number 13\n",
      "Here is an odd number 15\n",
      "Here is an odd number 17\n",
      "Here is an odd number 19\n",
      "Here is an odd number 21\n",
      "Here is an odd number 23\n",
      "Here is an odd number 25\n",
      "Yikes, skipping this number 27\n",
      "Here is an odd number 29\n",
      "Here is an odd number 31\n",
      "Here is an odd number 33\n",
      "Here is an odd number 35\n",
      "Here is an odd number 37\n",
      "Here is an odd number 39\n",
      "Here is an odd number 41\n",
      "Here is an odd number 43\n",
      "Here is an odd number 45\n",
      "Here is an odd number 47\n",
      "Here is an odd number 49\n"
     ]
    }
   ],
   "source": [
    "num = input('Please enter a odd number between 1 and 50: ')\n",
    "\n",
    "while True:\n",
    "    if (num.isdigit() ==  False\n",
    "       or int(num) > 50\n",
    "       or int(num) <=0\n",
    "       or int(num) % 2 == 0):\n",
    "        print('Invalid Input')\n",
    "        num = input('Please enter a odd number between 1 and 50: ')\n",
    "    else:\n",
    "        break\n",
    "\n",
    "num = int(num)\n",
    "print(' The number to skip is ', num)\n",
    "\n",
    "for i in range(1, 50):\n",
    "    if i % 2 == 0:\n",
    "        continue\n",
    "    elif i == num:\n",
    "        print('Yikes, skipping this number', i)\n",
    "    else:\n",
    "        print('Here is an odd number', i)\n",
    "    \n",
    "          \n",
    "       "
   ]
  },
  {
   "cell_type": "markdown",
   "id": "f681b05b",
   "metadata": {},
   "source": [
    "### 2(d) The input function can be used to prompt for input and use that input in your python code. Prompt the user to enter a positive number and write a loop that counts from 0 to that number. (Hints: first make sure that the value the user entered is a valid number, also note that the input function returns a string, so you'll need to convert this to a numeric type.)"
   ]
  },
  {
   "cell_type": "code",
   "execution_count": 1,
   "id": "73f21164",
   "metadata": {},
   "outputs": [
    {
     "name": "stdout",
     "output_type": "stream",
     "text": [
      "Please input a positive integer: 20\n",
      "0\n",
      "1\n",
      "2\n",
      "3\n",
      "4\n",
      "5\n",
      "6\n",
      "7\n",
      "8\n",
      "9\n",
      "10\n",
      "11\n",
      "12\n",
      "13\n",
      "14\n",
      "15\n",
      "16\n",
      "17\n",
      "18\n",
      "19\n",
      "20\n"
     ]
    }
   ],
   "source": [
    "num = input('Please input a positive integer: ')\n",
    "\n",
    "\n",
    "while True:\n",
    "    if (num.isdigit() ==  False\n",
    "       or int(num) < 0):\n",
    "        print('Invalid Input')\n",
    "        num = input('Please enter a positive integer: ')\n",
    "    else:\n",
    "        break\n",
    "\n",
    "        \n",
    "for i in range(0, int(num) + 1):\n",
    "    print(i)"
   ]
  },
  {
   "cell_type": "markdown",
   "id": "2bc9ed19",
   "metadata": {},
   "source": [
    "### e. Write a program that prompts the user for a positive integer. Next write a loop that prints out the numbers from the number the user entered down to 1."
   ]
  },
  {
   "cell_type": "code",
   "execution_count": 2,
   "id": "f15b6bf7",
   "metadata": {},
   "outputs": [
    {
     "name": "stdout",
     "output_type": "stream",
     "text": [
      "Please input a positive integer: 50\n",
      "50\n",
      "49\n",
      "48\n",
      "47\n",
      "46\n",
      "45\n",
      "44\n",
      "43\n",
      "42\n",
      "41\n",
      "40\n",
      "39\n",
      "38\n",
      "37\n",
      "36\n",
      "35\n",
      "34\n",
      "33\n",
      "32\n",
      "31\n",
      "30\n",
      "29\n",
      "28\n",
      "27\n",
      "26\n",
      "25\n",
      "24\n",
      "23\n",
      "22\n",
      "21\n",
      "20\n",
      "19\n",
      "18\n",
      "17\n",
      "16\n",
      "15\n",
      "14\n",
      "13\n",
      "12\n",
      "11\n",
      "10\n",
      "9\n",
      "8\n",
      "7\n",
      "6\n",
      "5\n",
      "4\n",
      "3\n",
      "2\n",
      "1\n"
     ]
    }
   ],
   "source": [
    "num = input('Please input a positive integer: ')\n",
    "\n",
    "while True:\n",
    "    if (num.isdigit() ==  False\n",
    "       or int(num) < 0):\n",
    "        print('Invalid Input')\n",
    "        num = input('Please enter a positive integer: ')\n",
    "    else:\n",
    "        break\n",
    "\n",
    "        \n",
    "for i in reversed(range(1, int(num) + 1)):\n",
    "    print(i)\n"
   ]
  },
  {
   "cell_type": "markdown",
   "id": "68f48190",
   "metadata": {},
   "source": [
    "### 3. Fizzbuzz\n",
    "### Write a program that prints the numbers from 1 to 100. For multiples of three print \"Fizz\" instead of the number For the multiples of five print \"Buzz\". For numbers which are multiples of both three and five print \"FizzBuzz\"."
   ]
  },
  {
   "cell_type": "code",
   "execution_count": 4,
   "id": "82f63dde",
   "metadata": {},
   "outputs": [
    {
     "name": "stdout",
     "output_type": "stream",
     "text": [
      "1\n",
      "2\n",
      "fizz\n",
      "4\n",
      "buzz\n",
      "fizz\n",
      "7\n",
      "8\n",
      "fizz\n",
      "buzz\n",
      "11\n",
      "fizz\n",
      "13\n",
      "14\n",
      "fizzbuzz\n",
      "16\n",
      "17\n",
      "fizz\n",
      "19\n",
      "buzz\n",
      "fizz\n",
      "22\n",
      "23\n",
      "fizz\n",
      "buzz\n",
      "26\n",
      "fizz\n",
      "28\n",
      "29\n",
      "fizzbuzz\n",
      "31\n",
      "32\n",
      "fizz\n",
      "34\n",
      "buzz\n",
      "fizz\n",
      "37\n",
      "38\n",
      "fizz\n",
      "buzz\n",
      "41\n",
      "fizz\n",
      "43\n",
      "44\n",
      "fizzbuzz\n",
      "46\n",
      "47\n",
      "fizz\n",
      "49\n",
      "buzz\n",
      "fizz\n",
      "52\n",
      "53\n",
      "fizz\n",
      "buzz\n",
      "56\n",
      "fizz\n",
      "58\n",
      "59\n",
      "fizzbuzz\n",
      "61\n",
      "62\n",
      "fizz\n",
      "64\n",
      "buzz\n",
      "fizz\n",
      "67\n",
      "68\n",
      "fizz\n",
      "buzz\n",
      "71\n",
      "fizz\n",
      "73\n",
      "74\n",
      "fizzbuzz\n",
      "76\n",
      "77\n",
      "fizz\n",
      "79\n",
      "buzz\n",
      "fizz\n",
      "82\n",
      "83\n",
      "fizz\n",
      "buzz\n",
      "86\n",
      "fizz\n",
      "88\n",
      "89\n",
      "fizzbuzz\n",
      "91\n",
      "92\n",
      "fizz\n",
      "94\n",
      "buzz\n",
      "fizz\n",
      "97\n",
      "98\n",
      "fizz\n",
      "buzz\n"
     ]
    }
   ],
   "source": [
    "for i in range(1, 101):\n",
    "    if i % 3 == 0 and i % 5 == 0:\n",
    "        print('fizzbuzz')\n",
    "    elif i % 3 == 0:\n",
    "        print('fizz')\n",
    "    elif i % 5 == 0:\n",
    "        print('buzz')                   \n",
    "    else:\n",
    "        print(i)"
   ]
  },
  {
   "cell_type": "markdown",
   "id": "15551e8f",
   "metadata": {},
   "source": [
    "### Display a table of powers.\n",
    "### Prompt the user to enter an integer. Display a table of squares and cubes from 1 to the value entered. Ask if the user wants to continue. Assume that the user will enter valid data. Only continue if the user agrees to."
   ]
  },
  {
   "cell_type": "code",
   "execution_count": 5,
   "id": "06191c15",
   "metadata": {},
   "outputs": [
    {
     "name": "stdout",
     "output_type": "stream",
     "text": [
      "Please enter an positive integer: 10\n",
      "Here is your table!\n",
      "number|squared|cubed\n",
      "------|-------|-----\n",
      "  1   |   1   |  1  \n",
      "  2   |   4   |  8  \n",
      "  3   |   9   | 27  \n",
      "  4   |  16   | 64  \n",
      "  5   |  25   | 125 \n",
      "  6   |  36   | 216 \n",
      "  7   |  49   | 343 \n",
      "  8   |  64   | 512 \n",
      "  9   |  81   | 729 \n",
      "  10  |  100  |1000 \n"
     ]
    }
   ],
   "source": [
    "num = input('Please enter an positive integer: ')\n",
    "\n",
    "print('Here is your table!')\n",
    "print('number|squared|cubed')\n",
    "print('------|-------|-----')\n",
    "\n",
    "num = int(num)\n",
    "for i in range(1, num + 1):\n",
    "\n",
    "    print('{:^6}|{:^7}|{:^5}'.format(i, i ** 2, i ** 3)) # mid aligned\n"
   ]
  },
  {
   "cell_type": "markdown",
   "id": "0fce49ad",
   "metadata": {},
   "source": [
    "### 5. Convert given number grades into letter grades.\n",
    "### Prompt the user for a numerical grade from 0 to 100.\n",
    "### Display the corresponding letter grade.\n",
    "### Prompt the user to continue.\n",
    "### Assume that the user will enter valid integers for the grades.\n",
    "### The application should only continue if the user agrees to.\n",
    "### Grade Ranges:\n",
    "### A : 100 - 88\n",
    "### B : 87 - 80\n",
    "### C : 79 - 67\n",
    "### D : 66 - 60\n",
    "### F : 59 - 0"
   ]
  },
  {
   "cell_type": "code",
   "execution_count": 6,
   "id": "526efd0f",
   "metadata": {},
   "outputs": [
    {
     "name": "stdout",
     "output_type": "stream",
     "text": [
      "Please enter the numeric grade: 80\n",
      "B\n",
      "Do you want to continue? Please enter yes or y to continue:y\n",
      "Please enter the numeric grade: 88\n",
      "A\n",
      "Do you want to continue? Please enter yes or y to continue:no\n"
     ]
    }
   ],
   "source": [
    "while True:\n",
    "    num = input('Please enter the numeric grade: ')\n",
    "    num = int(num)\n",
    "    if num >= 88:\n",
    "        print('A')\n",
    "    elif num >= 80:\n",
    "        print('B')\n",
    "    elif num >= 67:\n",
    "        print('C')\n",
    "    elif num >= 60:\n",
    "        print('D')\n",
    "    else:\n",
    "        print('F')\n",
    "        \n",
    "    choice = input('Do you want to continue? Please enter yes or y to continue:')\n",
    "    if choice.lower() in ['yes', 'y']:\n",
    "        continue\n",
    "    else:\n",
    "        break"
   ]
  },
  {
   "cell_type": "code",
   "execution_count": null,
   "id": "e311d611",
   "metadata": {},
   "outputs": [
    {
     "name": "stdout",
     "output_type": "stream",
     "text": [
      " The book title1 by author author1 belongs to genre1\n",
      "Please choose a genre: genre2\n",
      " The book title2 by author author1 belongs to genre2\n",
      "Please choose a genre: genre1\n",
      " The book title3 by author author2 belongs to genre2\n"
     ]
    }
   ],
   "source": [
    "books = [\n",
    "    {\n",
    "        'title':'title1',\n",
    "        'author': 'author1',\n",
    "        'genre': 'genre1'\n",
    "    },\n",
    "    {\n",
    "        'title':'title2',\n",
    "        'author': 'author1',\n",
    "        'genre': 'genre2'\n",
    "    },\n",
    "    {\n",
    "        'title':'title3',\n",
    "        'author': 'author2',\n",
    "        'genre': 'genre2'\n",
    "    },\n",
    "    {\n",
    "        'title':'title4',\n",
    "        'author': 'author3',\n",
    "        'genre': 'genre2'\n",
    "    }\n",
    "]\n",
    "for book in books:\n",
    "    print(f\" The book {book['title']} by author {book['author']} belongs to {book['genre']}\")\n",
    "    \n",
    "    user_input = input('Please choose a genre: ')\n",
    "for book in books:\n",
    "    if user_input == book['genre']:\n",
    "        print(book['title'])\n"
   ]
  },
  {
   "cell_type": "code",
   "execution_count": null,
   "id": "2ec0f8d3",
   "metadata": {},
   "outputs": [],
   "source": []
  }
 ],
 "metadata": {
  "kernelspec": {
   "display_name": "Python 3",
   "language": "python",
   "name": "python3"
  },
  "language_info": {
   "codemirror_mode": {
    "name": "ipython",
    "version": 3
   },
   "file_extension": ".py",
   "mimetype": "text/x-python",
   "name": "python",
   "nbconvert_exporter": "python",
   "pygments_lexer": "ipython3",
   "version": "3.8.8"
  }
 },
 "nbformat": 4,
 "nbformat_minor": 5
}
