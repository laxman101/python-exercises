{
 "cells": [
  {
   "cell_type": "code",
   "execution_count": 1,
   "id": "77b6c3d3",
   "metadata": {},
   "outputs": [],
   "source": [
    "# Use the following code to follow the instructions below:\n",
    "username = 'codeup'\n",
    "password = 'notastrongpassword'\n",
    "# Create a variable that holds a boolean value for each of the following conditions:\n",
    "\n",
    "# the password must be at least 5 characters"
   ]
  },
  {
   "cell_type": "code",
   "execution_count": 2,
   "id": "76a99e13",
   "metadata": {},
   "outputs": [],
   "source": [
    "At_least_five_characters = len(password) >= 5\n",
    "print(At_least_five_characters)\n"
   ]
  },
  {
   "cell_type": "code",
   "execution_count": 3,
   "id": "f5f5c4e2",
   "metadata": {},
   "outputs": [],
   "source": [
    "# the username must be no more than 20 characters"
   ]
  },
  {
   "cell_type": "code",
   "execution_count": 4,
   "id": "f756adf4",
   "metadata": {},
   "outputs": [],
   "source": [
    "no_more_than_20_characters = len(username) <= 20\n",
    "print(no_more_than_20_characters)"
   ]
  },
  {
   "cell_type": "code",
   "execution_count": 5,
   "id": "069e8a08",
   "metadata": {},
   "outputs": [],
   "source": [
    "# the password must not be the same as the username\n"
   ]
  },
  {
   "cell_type": "code",
   "execution_count": null,
   "id": "5f52d9f9",
   "metadata": {},
   "outputs": [],
   "source": [
    "not_same_username_password = password != username\n",
    "print(not_same_username_password)"
   ]
  }
 ],
 "metadata": {
  "kernelspec": {
   "display_name": "Python 3",
   "language": "python",
   "name": "python3"
  },
  "language_info": {
   "codemirror_mode": {
    "name": "ipython",
    "version": 3
   },
   "file_extension": ".py",
   "mimetype": "text/x-python",
   "name": "python",
   "nbconvert_exporter": "python",
   "pygments_lexer": "ipython3",
   "version": "3.8.8"
  }
 },
 "nbformat": 4,
 "nbformat_minor": 5
}
