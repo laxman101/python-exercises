{
 "cells": [
  {
   "cell_type": "code",
   "execution_count": 5,
   "id": "634b3e4c",
   "metadata": {},
   "outputs": [],
   "source": [
    "# 1 You have rented some movies for your kids: The little mermaid (for 3 days), Brother Bear (for 5 days, they love it), and Hercules (1 day, you don't know yet if they're going to like it). If price for a movie per day is 3 dollars, how much will you have to pay?\n"
   ]
  },
  {
   "cell_type": "code",
   "execution_count": 7,
   "id": "e0d58cde",
   "metadata": {},
   "outputs": [],
   "source": [
    "Rental_movies = [('Little Mermaid',3), ('Brother Bear', 5), ('Hercules', 1)]"
   ]
  },
  {
   "cell_type": "code",
   "execution_count": 8,
   "id": "e5e28b05",
   "metadata": {},
   "outputs": [
    {
     "name": "stdout",
     "output_type": "stream",
     "text": [
      "Total rental movies cost:27\n"
     ]
    }
   ],
   "source": [
    "print('Total rental movies cost:' + str((movies[0][1] + movies[1][1] + movies[2][1])*3))"
   ]
  },
  {
   "cell_type": "code",
   "execution_count": null,
   "id": "63a0919d",
   "metadata": {},
   "outputs": [],
   "source": [
    "# 2 Suppose you're working as a contractor for 3 companies: Google, Amazon and Facebook, they pay you a different rate per hour. Google pays 400 dollars per hour, Amazon 380, and Facebook 350. How much will you receive in payment for this week? You worked 10 hours for Facebook, 6 hours for Google and 4 hours for Amazon.\n"
   ]
  },
  {
   "cell_type": "code",
   "execution_count": 9,
   "id": "12b95f5f",
   "metadata": {},
   "outputs": [],
   "source": [
    "Total_work_week = [('Google', 400, 6),('Amazon', 380, 4), ('Facebook', 350, 10)]"
   ]
  },
  {
   "cell_type": "code",
   "execution_count": 14,
   "id": "6b0e58bb",
   "metadata": {},
   "outputs": [],
   "source": [
    "Total_pay = (Total_work_week[0][1]*Total_work_week[0][2]) + (Total_work_week[1][1]*Total_work_week[1][2]) + (Total_work_week[2][1]*Total_work_week[2][2])"
   ]
  },
  {
   "cell_type": "code",
   "execution_count": 15,
   "id": "65133528",
   "metadata": {},
   "outputs": [
    {
     "name": "stdout",
     "output_type": "stream",
     "text": [
      "7420\n"
     ]
    }
   ],
   "source": [
    "print(Total_pay)"
   ]
  },
  {
   "cell_type": "code",
   "execution_count": null,
   "id": "971d98e5",
   "metadata": {},
   "outputs": [],
   "source": [
    "# 3 A student can be enrolled to a class only if the class is not full and the class schedule does not conflict with her current schedule."
   ]
  },
  {
   "cell_type": "code",
   "execution_count": 23,
   "id": "066de473",
   "metadata": {},
   "outputs": [],
   "source": [
    "If_class_full = False"
   ]
  },
  {
   "cell_type": "code",
   "execution_count": 24,
   "id": "ed924de5",
   "metadata": {},
   "outputs": [],
   "source": [
    "If_schedule_conflict = False"
   ]
  },
  {
   "cell_type": "code",
   "execution_count": 25,
   "id": "8096fa6e",
   "metadata": {},
   "outputs": [],
   "source": [
    "class_enroll_ok = not If_class_full and not If_schedule_conflict"
   ]
  },
  {
   "cell_type": "code",
   "execution_count": 28,
   "id": "1a5b4133",
   "metadata": {},
   "outputs": [
    {
     "name": "stdout",
     "output_type": "stream",
     "text": [
      "True\n"
     ]
    }
   ],
   "source": [
    "print(class_enroll_ok)"
   ]
  },
  {
   "cell_type": "code",
   "execution_count": 1,
   "id": "1a4db4dd",
   "metadata": {},
   "outputs": [],
   "source": [
    "# 4 A product offer can be applied only if people buys more than 2 items, and the offer has not expired. Premium members do not need to buy a specific amount of products.\n"
   ]
  },
  {
   "cell_type": "code",
   "execution_count": 2,
   "id": "79011902",
   "metadata": {},
   "outputs": [],
   "source": [
    "people_buys = 3"
   ]
  },
  {
   "cell_type": "code",
   "execution_count": 4,
   "id": "6f5772a7",
   "metadata": {},
   "outputs": [],
   "source": [
    "offer_expires = False \n"
   ]
  },
  {
   "cell_type": "code",
   "execution_count": 6,
   "id": "400205ae",
   "metadata": {},
   "outputs": [],
   "source": [
    "A_product_offer = (people_buys > 2) and not offer_expires"
   ]
  },
  {
   "cell_type": "code",
   "execution_count": 7,
   "id": "cdfafefd",
   "metadata": {},
   "outputs": [
    {
     "name": "stdout",
     "output_type": "stream",
     "text": [
      "True\n"
     ]
    }
   ],
   "source": [
    "print(A_product_offer)"
   ]
  },
  {
   "cell_type": "code",
   "execution_count": null,
   "id": "96ad1f05",
   "metadata": {},
   "outputs": [],
   "source": []
  }
 ],
 "metadata": {
  "kernelspec": {
   "display_name": "Python 3",
   "language": "python",
   "name": "python3"
  },
  "language_info": {
   "codemirror_mode": {
    "name": "ipython",
    "version": 3
   },
   "file_extension": ".py",
   "mimetype": "text/x-python",
   "name": "python",
   "nbconvert_exporter": "python",
   "pygments_lexer": "ipython3",
   "version": "3.8.8"
  }
 },
 "nbformat": 4,
 "nbformat_minor": 5
}
